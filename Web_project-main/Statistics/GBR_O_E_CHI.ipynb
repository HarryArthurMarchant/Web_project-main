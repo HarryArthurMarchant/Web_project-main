{
 "cells": [
  {
   "cell_type": "code",
   "execution_count": 1,
   "metadata": {},
   "outputs": [],
   "source": [
    "#getting data for observed, expected, chi squared\n",
    "import pandas as pd\n",
    "df = pd.read_csv('GBR_data.tsv', sep = '\\t')"
   ]
  },
  {
   "cell_type": "code",
   "execution_count": 2,
   "metadata": {},
   "outputs": [],
   "source": [
    "# Calculating observed and expected\n",
    "\n",
    "def h_exp_obs_Aa(AA, Aa, aa):\n",
    "    \n",
    "    'Calculates expected and observed heterzygosity'\n",
    "    \n",
    "    p = ((2 * AA) + Aa)/ (2 * (AA + Aa + aa))\n",
    "    q = ((2 * aa) + Aa)/ (2 * (AA + Aa + aa))\n",
    "    \n",
    "    #2pq\n",
    "    twice_p_q = 2 * p * q\n",
    "    \n",
    "    #Calculating Observed\n",
    "    Observed = (Aa *2) /(2 * (AA + Aa + aa))\n",
    " \n",
    "    return Observed, twice_p_q"
   ]
  },
  {
   "cell_type": "code",
   "execution_count": 3,
   "metadata": {},
   "outputs": [],
   "source": [
    "### Calculating Chi squared\n",
    "### Testing for Hardy-Weinberg Equilibrium\n",
    "### Null hyp --> No difference between the observed and expected data\n",
    "\n",
    "from scipy.stats import chisquare\n",
    "\n",
    "def H_W_Equlibrium(AA, Aa, aa):\n",
    "    \n",
    "    'Calculates whether there is a significant difference between the observed and expected data.'\n",
    "    \n",
    "    data = [AA, Aa, aa]\n",
    "    chi, p= chisquare(data)\n",
    "    return p"
   ]
  },
  {
   "cell_type": "code",
   "execution_count": 4,
   "metadata": {},
   "outputs": [],
   "source": [
    "#calculating where there is a difference between observed and expected\n",
    "# note it returns nan when values are nearly the same\n",
    "\n",
    "from scipy.stats import bartlett\n",
    "\n",
    "def equal_variance(O, E):     \n",
    "    stat, p = bartlett(O, E)\n",
    "    return p\n"
   ]
  },
  {
   "cell_type": "code",
   "execution_count": 5,
   "metadata": {},
   "outputs": [],
   "source": [
    "#Observed and expected heterzygosity & chi squared\n",
    "\n",
    "hom_ref =[] #12:14        # didnt know how to iterate using dictionary so used indices\n",
    "het = [] # 22:24\n",
    "hom_alt = [] #37:38\n",
    "rs = [] # rs values\n",
    "\n",
    "GBR_geno = df['genotypes']\n",
    "for x in GBR_geno:\n",
    "    hom_ref.append(x[12:14])\n",
    "    het.append(x[22:24])\n",
    "    hom_alt.append(x[37:38])\n",
    "    \n",
    "GBR_rs = df['ID']\n",
    "for x in GBR_rs:\n",
    "    rs.append(x)\n",
    "    \n",
    "GBR_data = list(zip(hom_ref, het, hom_alt))  #getting the data\n",
    "GBR = list(zip(rs, GBR_data))\n",
    "#print(GBR)\n",
    "\n",
    "rs_value = []\n",
    "C = [] #observed and expected\n",
    "E = [] #H_W\n",
    "\n",
    "for x in GBR:\n",
    "    try:\n",
    "        rs_value.append(x[0])\n",
    "        Calculations = h_exp_obs_Aa(AA = int(x[1][0]), Aa = int(x[1][1]), aa = int(x[1][2]))\n",
    "        C.append(Calculations)\n",
    "        Equ = H_W_Equlibrium(AA = int(x[1][0]), Aa = int(x[1][1]), aa = int(x[1][2]))\n",
    "        E.append(Equ)\n",
    "    except:\n",
    "        Calculations = 'N/A' \n",
    "        Equ = 'N/A'\n",
    "          \n",
    "C.append(Calculations)\n",
    "O_E = list(zip(rs_value, C, E, ))\n",
    "\n",
    "\n",
    "#outputing tsv\n",
    "import csv    \n",
    "\n",
    "with open('GBR_O_E_CHI_.tsv','w', newline='') as f_output:\n",
    "    tsv_output = csv.writer(f_output, delimiter='\\t')\n",
    "    tsv_output.writerow(O_E)\n",
    "\n"
   ]
  },
  {
   "cell_type": "code",
   "execution_count": null,
   "metadata": {},
   "outputs": [],
   "source": [
    "\n",
    "\n"
   ]
  },
  {
   "cell_type": "code",
   "execution_count": null,
   "metadata": {},
   "outputs": [],
   "source": []
  }
 ],
 "metadata": {
  "kernelspec": {
   "display_name": "Python 3",
   "language": "python",
   "name": "python3"
  },
  "language_info": {
   "codemirror_mode": {
    "name": "ipython",
    "version": 3
   },
   "file_extension": ".py",
   "mimetype": "text/x-python",
   "name": "python",
   "nbconvert_exporter": "python",
   "pygments_lexer": "ipython3",
   "version": "3.8.3"
  }
 },
 "nbformat": 4,
 "nbformat_minor": 4
}
